{
 "cells": [
  {
   "cell_type": "code",
   "execution_count": null,
   "id": "1031fa58",
   "metadata": {},
   "outputs": [],
   "source": [
    "import sys\n",
    "from PyQt5.QtWidgets import QApplication\n",
    "from ANALYTICAL import ANALYTICAL"
   ]
  },
  {
   "cell_type": "code",
   "execution_count": null,
   "id": "88353e17",
   "metadata": {
    "scrolled": true
   },
   "outputs": [],
   "source": [
    "app = QApplication(sys.argv)\n",
    "form = ANALYTICAL()\n",
    "app.exec_()"
   ]
  },
  {
   "cell_type": "code",
   "execution_count": null,
   "id": "88af0140",
   "metadata": {},
   "outputs": [],
   "source": []
  }
 ],
 "metadata": {
  "kernelspec": {
   "display_name": "Python 3 (ipykernel)",
   "language": "python",
   "name": "python3"
  },
  "language_info": {
   "codemirror_mode": {
    "name": "ipython",
    "version": 3
   },
   "file_extension": ".py",
   "mimetype": "text/x-python",
   "name": "python",
   "nbconvert_exporter": "python",
   "pygments_lexer": "ipython3",
   "version": "3.10.9"
  }
 },
 "nbformat": 4,
 "nbformat_minor": 5
}
